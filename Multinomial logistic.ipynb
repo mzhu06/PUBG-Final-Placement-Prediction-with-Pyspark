{
 "cells": [
  {
   "cell_type": "code",
   "execution_count": null,
   "metadata": {},
   "outputs": [],
   "source": [
    "from pyspark.sql import SparkSession\n",
    "import numpy as np\n",
    "\n",
    "spark = SparkSession.builder.getOrCreate()\n",
    "sc = spark.sparkContext\n",
    "\n",
    "import pyspark\n",
    "from pyspark.ml import feature, regression, Pipeline\n",
    "from pyspark.sql import functions as fn, Row\n",
    "from pyspark import sql\n",
    "from pyspark.ml.regression import LinearRegression\n",
    "from pyspark.ml.evaluation import RegressionEvaluator\n",
    "from pyspark.ml.classification import LogisticRegression\n",
    "\n",
    "import matplotlib.pyplot as plt\n",
    "import pandas as pd\n"
   ]
  },
  {
   "cell_type": "code",
   "execution_count": 117,
   "metadata": {},
   "outputs": [],
   "source": [
    "##############################################################################\n",
    "##########       Spark creat and transform data             #################\n",
    "##############################################################################\n",
    "## Spark Method ##\n",
    "Full_data = spark.read.csv('train_V2.csv', sep=',', inferSchema=True, header=True)\n",
    "# seperate match type\n",
    "update_fun = (fn.when(fn.col('matchType').contains('solo'), 'solo').when(fn.col('matchType').contains('duo' or 'crash'), 'duo')\n",
    "                .otherwise('squad'))\n",
    "Full_data = Full_data.withColumn('matchType', update_fun)\n",
    "##############################################################################\n",
    "###### collect solo match\n",
    "New_df_solo = Full_data.filter(Full_data.matchType == 'solo')\n",
    "columns = ['Id','groupId','matchId','matchType']\n",
    "New_df_solo = New_df_solo.select([col for col in New_df_solo.columns if col not in columns])\n",
    "pj_sp_df_solo = New_df_solo.sample(withReplacement=False, fraction=0.1, seed=3)\n",
    "##############################################################################\n",
    "###### collect team match\n",
    "New_df_team  = Full_data.select('*').groupby('groupId').agg(fn.sum('damageDealt').alias('total_team_damage'),\n",
    "                      fn.sum('kills').alias('total_team_kills'),\n",
    "                      fn.sum('killPoints').alias('team_kill_points'),\n",
    "                      fn.avg('killPlace').alias('team_kill_rank'),\n",
    "                      fn.avg('rankPoints').alias('team_normal_rank'),\n",
    "                      fn.sum('revives').alias('team_revives'),\n",
    "                      fn.sum('boosts').alias('team_boosts'),\n",
    "                      fn.sum('assists').alias('total_assists'),\n",
    "                      fn.sum('DBNOs').alias('team_DBNOs'),\n",
    "                      fn.sum(Full_data.rideDistance + Full_data.walkDistance + Full_data.swimDistance).alias('totalDistance'))\n",
    "New_df_team  = New_df_team.join(Full_data,New_df_team .groupId == Full_data.groupId)\n",
    "\n"
   ]
  },
  {
   "cell_type": "code",
   "execution_count": 118,
   "metadata": {},
   "outputs": [],
   "source": [
    "##\n",
    "columns = ['Id','groupId','matchId', 'roadKills','numGroups','rideDistance','walkDistance','swimDistance','kills','killPints','killPlace','rankPoints','revives','boosts','assists','DBNOs']\n",
    "New_df_team = New_df_team.select([col for col in New_df_team.columns if col not in columns])\n",
    "\n",
    "################################################################################\n",
    "pj_sp_df_team = New_df_team.sample(withReplacement=False, fraction=0.1, seed=3)\n",
    "##\n",
    "#withColumn('solo',(fn.col('matchType') == 'solo').cast('int')).\\\n",
    "pj_sp_df_team = pj_sp_df_team.\\\n",
    "                    withColumn('duo',(fn.col('matchType') == 'duo').cast('int')).\\\n",
    "                    withColumn('squad',(fn.col('matchType') == 'squad').cast('int'))\n",
    "pj_sp_df_team = pj_sp_df_team.drop('matchType')\n",
    "\n",
    "##############################################################################\n",
    "\n"
   ]
  },
  {
   "cell_type": "code",
   "execution_count": 150,
   "metadata": {
    "scrolled": true
   },
   "outputs": [],
   "source": [
    "##############################################################\n",
    "#Logit\n",
    "##############################################################\n",
    "#split the data set into five categories in \n",
    "rankfun = fn.when(fn.col('winPlacePerc')>=0.8,1).\\\n",
    "    when(fn.col('winPlacePerc')>=0.6,2).\\\n",
    "    when(fn.col('winPlacePerc')>=0.4,3).\\\n",
    "    when(fn.col('winPlacePerc')>=0.2,4).\\\n",
    "    when(fn.col('winPlacePerc')>=0,5)"
   ]
  },
  {
   "cell_type": "code",
   "execution_count": 121,
   "metadata": {},
   "outputs": [],
   "source": [
    "pj_sp_df_solo = pj_sp_df_solo.withColumn('rank',rankfun).drop('winPlacePerc')\n",
    "pj_sp_df_team = pj_sp_df_team.withColumn('rank',rankfun).drop('winPlacePerc')"
   ]
  },
  {
   "cell_type": "code",
   "execution_count": 133,
   "metadata": {},
   "outputs": [],
   "source": [
    "from pyspark.ml.classification import LogisticRegression\n",
    "#####################################################################\n",
    "#### Multinomial logistic regression Model\n",
    "training_df, validation_df, testing_df = pj_sp_df_solo.randomSplit([0.6, 0.3, 0.1], seed=0)\n",
    "def logitReg(reg,elastic,training=training_df, validate=validation_df ):\n",
    "    inputcol = training_df.columns\n",
    "    inputcol.remove('rank')\n",
    "    logitReg = LogisticRegression().\\\n",
    "        setMaxIter(10).\\\n",
    "        setLabelCol('rank').\\\n",
    "        setFeaturesCol('scaledFeatures').\\\n",
    "        setRegParam(reg).\\\n",
    "        setElasticNetParam(elastic)\n",
    "\n",
    "    pipe_log=Pipeline(stages=[\n",
    "        feature.VectorAssembler(inputCols=inputcol, outputCol='features'),\n",
    "        feature.StandardScaler(withMean=True, inputCol='features', outputCol='scaledFeatures'),\n",
    "        logitReg\n",
    "        ]).fit(training_df)\n",
    "    logSummary = pipe_log.stages[-1].summary\n",
    "    accuracy = logSummary.accuracy\n",
    "    falsePositiveRate = logSummary.weightedFalsePositiveRate\n",
    "    truePositiveRate = logSummary.weightedTruePositiveRate\n",
    "    fMeasure = logSummary.weightedFMeasure()\n",
    "    precision = logSummary.weightedPrecision\n",
    "    recall = logSummary.weightedRecall\n",
    "    return(print(\"Accuracy: %s\\nFPR: %s\\nTPR: %s\\nF-measure: %s\\nPrecision: %s\\nRecall: %s\"      % (accuracy, falsePositiveRate, truePositiveRate, fMeasure, precision, recall)))\n"
   ]
  },
  {
   "cell_type": "code",
   "execution_count": 134,
   "metadata": {
    "scrolled": true
   },
   "outputs": [
    {
     "name": "stdout",
     "output_type": "stream",
     "text": [
      "Accuracy: 0.7101302059285253\n",
      "FPR: 0.07148595686560526\n",
      "TPR: 0.7101302059285253\n",
      "F-measure: 0.7093123366304922\n",
      "Precision: 0.7090564520219402\n",
      "Recall: 0.7101302059285253\n"
     ]
    }
   ],
   "source": [
    "##############################################################\n",
    "#Multinomial logistic regression for solo players\n",
    "logitReg(0,0)"
   ]
  },
  {
   "cell_type": "code",
   "execution_count": 135,
   "metadata": {},
   "outputs": [
    {
     "name": "stdout",
     "output_type": "stream",
     "text": [
      "Accuracy: 0.5847954566441962\n",
      "FPR: 0.10630865907765012\n",
      "TPR: 0.5847954566441962\n",
      "F-measure: 0.5637513492301548\n",
      "Precision: 0.5683321306081848\n",
      "Recall: 0.5847954566441962\n"
     ]
    }
   ],
   "source": [
    "logitReg(0.1,0)"
   ]
  },
  {
   "cell_type": "code",
   "execution_count": 137,
   "metadata": {
    "scrolled": false
   },
   "outputs": [
    {
     "name": "stdout",
     "output_type": "stream",
     "text": [
      "Accuracy: 0.5341444270015698\n",
      "FPR: 0.1203301004949466\n",
      "TPR: 0.5341444270015698\n",
      "F-measure: 0.49393156272789857\n",
      "Precision: 0.5197929283448036\n",
      "Recall: 0.5341444270015698\n"
     ]
    }
   ],
   "source": [
    "logitReg(0.1,0.5)"
   ]
  },
  {
   "cell_type": "code",
   "execution_count": 139,
   "metadata": {},
   "outputs": [
    {
     "name": "stdout",
     "output_type": "stream",
     "text": [
      "Accuracy: 0.5527518699787607\n",
      "FPR: 0.11595787169559929\n",
      "TPR: 0.5527518699787607\n",
      "F-measure: 0.5207064231584007\n",
      "Precision: 0.5350630774086994\n",
      "Recall: 0.5527518699787607\n"
     ]
    }
   ],
   "source": [
    "logitReg(0.2,0)"
   ]
  },
  {
   "cell_type": "code",
   "execution_count": 140,
   "metadata": {},
   "outputs": [
    {
     "name": "stdout",
     "output_type": "stream",
     "text": [
      "Accuracy: 0.4631083202511774\n",
      "FPR: 0.14247544754878932\n",
      "TPR: 0.46310832025117743\n",
      "F-measure: 0.36554435373598715\n",
      "Precision: 0.3403376800912541\n",
      "Recall: 0.46310832025117743\n"
     ]
    }
   ],
   "source": [
    "logitReg(0.2,0.5)"
   ]
  },
  {
   "cell_type": "code",
   "execution_count": 141,
   "metadata": {},
   "outputs": [
    {
     "name": "stdout",
     "output_type": "stream",
     "text": [
      "Accuracy: 0.5326207406039338\n",
      "FPR: 0.12223378482119703\n",
      "TPR: 0.5326207406039338\n",
      "F-measure: 0.4922864275803533\n",
      "Precision: 0.5186116200689332\n",
      "Recall: 0.5326207406039338\n"
     ]
    }
   ],
   "source": [
    "logitReg(0.3,0)"
   ]
  },
  {
   "cell_type": "code",
   "execution_count": 138,
   "metadata": {
    "scrolled": true
   },
   "outputs": [
    {
     "name": "stdout",
     "output_type": "stream",
     "text": [
      "Accuracy: 0.459853172038046\n",
      "FPR: 0.14667228255571435\n",
      "TPR: 0.459853172038046\n",
      "F-measure: 0.3392477276204374\n",
      "Precision: 0.29084765995329287\n",
      "Recall: 0.459853172038046\n"
     ]
    }
   ],
   "source": [
    "logitReg(0.3,0.5)"
   ]
  },
  {
   "cell_type": "code",
   "execution_count": 142,
   "metadata": {},
   "outputs": [],
   "source": [
    "##############################################################\n",
    "#Multinomial logistic regression for team player\n",
    "training_df, validation_df, testing_df = pj_sp_df_team.randomSplit([0.6, 0.3, 0.1], seed=0)"
   ]
  },
  {
   "cell_type": "code",
   "execution_count": 143,
   "metadata": {},
   "outputs": [
    {
     "name": "stdout",
     "output_type": "stream",
     "text": [
      "Accuracy: 0.6121119547149467\n",
      "FPR: 0.09578470859908182\n",
      "TPR: 0.6121119547149467\n",
      "F-measure: 0.6058559521843826\n",
      "Precision: 0.6017630344012748\n",
      "Recall: 0.6121119547149467\n"
     ]
    }
   ],
   "source": [
    "logitReg(0,0)"
   ]
  },
  {
   "cell_type": "code",
   "execution_count": 144,
   "metadata": {},
   "outputs": [
    {
     "name": "stdout",
     "output_type": "stream",
     "text": [
      "Accuracy: 0.5394933884421282\n",
      "FPR: 0.12177519476988757\n",
      "TPR: 0.5394933884421282\n",
      "F-measure: 0.5055745983219475\n",
      "Precision: 0.5050234520134471\n",
      "Recall: 0.5394933884421282\n"
     ]
    }
   ],
   "source": [
    "logitReg(0.1,0)"
   ]
  },
  {
   "cell_type": "code",
   "execution_count": 145,
   "metadata": {},
   "outputs": [
    {
     "name": "stdout",
     "output_type": "stream",
     "text": [
      "Accuracy: 0.4922316066909265\n",
      "FPR: 0.1398877932962714\n",
      "TPR: 0.4922316066909266\n",
      "F-measure: 0.40791933577845646\n",
      "Precision: 0.4518839319135191\n",
      "Recall: 0.4922316066909266\n"
     ]
    }
   ],
   "source": [
    "logitReg(0.1,0.5)"
   ]
  },
  {
   "cell_type": "code",
   "execution_count": 146,
   "metadata": {},
   "outputs": [
    {
     "name": "stdout",
     "output_type": "stream",
     "text": [
      "Accuracy: 0.5082326250056157\n",
      "FPR: 0.13436617580083582\n",
      "TPR: 0.5082326250056157\n",
      "F-measure: 0.45714382430033074\n",
      "Precision: 0.46611514562777995\n",
      "Recall: 0.5082326250056157\n"
     ]
    }
   ],
   "source": [
    "logitReg(0.2,0)"
   ]
  },
  {
   "cell_type": "code",
   "execution_count": 147,
   "metadata": {},
   "outputs": [
    {
     "name": "stdout",
     "output_type": "stream",
     "text": [
      "Accuracy: 0.44944367072495023\n",
      "FPR: 0.15997203041329314\n",
      "TPR: 0.4494436707249502\n",
      "F-measure: 0.3213524338339403\n",
      "Precision: 0.26122577247813444\n",
      "Recall: 0.4494436707249502\n"
     ]
    }
   ],
   "source": [
    "logitReg(0.2,0.5)"
   ]
  },
  {
   "cell_type": "code",
   "execution_count": 148,
   "metadata": {},
   "outputs": [
    {
     "name": "stdout",
     "output_type": "stream",
     "text": [
      "Accuracy: 0.4890793237192447\n",
      "FPR: 0.14283811920418474\n",
      "TPR: 0.4890793237192446\n",
      "F-measure: 0.4233778030521245\n",
      "Precision: 0.44253737407379384\n",
      "Recall: 0.4890793237192446\n"
     ]
    }
   ],
   "source": [
    "logitReg(0.3,0)"
   ]
  },
  {
   "cell_type": "code",
   "execution_count": 149,
   "metadata": {
    "scrolled": true
   },
   "outputs": [
    {
     "name": "stdout",
     "output_type": "stream",
     "text": [
      "Accuracy: 0.43306827200982373\n",
      "FPR: 0.1714439436190311\n",
      "TPR: 0.43306827200982373\n",
      "F-measure: 0.2868102322504982\n",
      "Precision: 0.24320377816828365\n",
      "Recall: 0.43306827200982373\n"
     ]
    }
   ],
   "source": [
    "logitReg(0.3,0.5)"
   ]
  },
  {
   "cell_type": "code",
   "execution_count": null,
   "metadata": {},
   "outputs": [],
   "source": []
  }
 ],
 "metadata": {
  "kernelspec": {
   "display_name": "Python 3",
   "language": "python",
   "name": "python3"
  },
  "language_info": {
   "codemirror_mode": {
    "name": "ipython",
    "version": 3
   },
   "file_extension": ".py",
   "mimetype": "text/x-python",
   "name": "python",
   "nbconvert_exporter": "python",
   "pygments_lexer": "ipython3",
   "version": "3.6.6"
  }
 },
 "nbformat": 4,
 "nbformat_minor": 2
}
