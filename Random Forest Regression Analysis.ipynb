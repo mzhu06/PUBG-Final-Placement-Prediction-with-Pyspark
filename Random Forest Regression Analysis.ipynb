{
 "cells": [
  {
   "cell_type": "code",
   "execution_count": 41,
   "metadata": {},
   "outputs": [],
   "source": [
    "\n",
    "from pyspark.sql import SparkSession\n",
    "import numpy as np\n",
    "\n",
    "spark = SparkSession.builder.getOrCreate()\n",
    "sc = spark.sparkContext\n",
    "\n",
    "import pyspark\n",
    "from pyspark.ml import feature, regression, Pipeline\n",
    "from pyspark.sql import functions as fn, Row\n",
    "from pyspark import sql\n",
    "from pyspark.ml.regression import LinearRegression\n",
    "from pyspark.ml.evaluation import RegressionEvaluator\n",
    "from pyspark.ml.classification import LogisticRegression\n",
    "\n",
    "import matplotlib.pyplot as plt\n",
    "import pandas as pd"
   ]
  },
  {
   "cell_type": "code",
   "execution_count": 44,
   "metadata": {},
   "outputs": [],
   "source": [
    "train = pd.read_csv('sampleTrain.csv', sep=',')\n"
   ]
  },
  {
   "cell_type": "code",
   "execution_count": 45,
   "metadata": {},
   "outputs": [
    {
     "data": {
      "text/html": [
       "<div>\n",
       "<style scoped>\n",
       "    .dataframe tbody tr th:only-of-type {\n",
       "        vertical-align: middle;\n",
       "    }\n",
       "\n",
       "    .dataframe tbody tr th {\n",
       "        vertical-align: top;\n",
       "    }\n",
       "\n",
       "    .dataframe thead th {\n",
       "        text-align: right;\n",
       "    }\n",
       "</style>\n",
       "<table border=\"1\" class=\"dataframe\">\n",
       "  <thead>\n",
       "    <tr style=\"text-align: right;\">\n",
       "      <th></th>\n",
       "      <th>assists</th>\n",
       "      <th>boosts</th>\n",
       "      <th>damageDealt</th>\n",
       "      <th>DBNOs</th>\n",
       "      <th>headshotKills</th>\n",
       "      <th>heals</th>\n",
       "      <th>killPlace</th>\n",
       "      <th>killPoints</th>\n",
       "      <th>kills</th>\n",
       "      <th>killStreaks</th>\n",
       "      <th>...</th>\n",
       "      <th>revives</th>\n",
       "      <th>rideDistance</th>\n",
       "      <th>roadKills</th>\n",
       "      <th>swimDistance</th>\n",
       "      <th>teamKills</th>\n",
       "      <th>vehicleDestroys</th>\n",
       "      <th>walkDistance</th>\n",
       "      <th>weaponsAcquired</th>\n",
       "      <th>winPoints</th>\n",
       "      <th>winPlacePerc</th>\n",
       "    </tr>\n",
       "  </thead>\n",
       "  <tbody>\n",
       "    <tr>\n",
       "      <th>count</th>\n",
       "      <td>44470.000000</td>\n",
       "      <td>44470.000000</td>\n",
       "      <td>44470.000000</td>\n",
       "      <td>44470.000000</td>\n",
       "      <td>44470.000000</td>\n",
       "      <td>44470.000000</td>\n",
       "      <td>44470.000000</td>\n",
       "      <td>44470.000000</td>\n",
       "      <td>44470.000000</td>\n",
       "      <td>44470.000000</td>\n",
       "      <td>...</td>\n",
       "      <td>44470.000000</td>\n",
       "      <td>44470.000000</td>\n",
       "      <td>44470.000000</td>\n",
       "      <td>44470.000000</td>\n",
       "      <td>44470.000000</td>\n",
       "      <td>44470.000000</td>\n",
       "      <td>44470.000000</td>\n",
       "      <td>44470.000000</td>\n",
       "      <td>44470.000000</td>\n",
       "      <td>44470.000000</td>\n",
       "    </tr>\n",
       "    <tr>\n",
       "      <th>mean</th>\n",
       "      <td>0.233011</td>\n",
       "      <td>1.097976</td>\n",
       "      <td>128.950505</td>\n",
       "      <td>0.642905</td>\n",
       "      <td>0.221723</td>\n",
       "      <td>1.353564</td>\n",
       "      <td>47.892962</td>\n",
       "      <td>506.026265</td>\n",
       "      <td>0.905060</td>\n",
       "      <td>0.535597</td>\n",
       "      <td>...</td>\n",
       "      <td>0.164358</td>\n",
       "      <td>605.370772</td>\n",
       "      <td>0.003620</td>\n",
       "      <td>4.632184</td>\n",
       "      <td>0.024264</td>\n",
       "      <td>0.007870</td>\n",
       "      <td>1147.982816</td>\n",
       "      <td>3.636272</td>\n",
       "      <td>608.822734</td>\n",
       "      <td>0.471774</td>\n",
       "    </tr>\n",
       "    <tr>\n",
       "      <th>std</th>\n",
       "      <td>0.580972</td>\n",
       "      <td>1.705380</td>\n",
       "      <td>167.193098</td>\n",
       "      <td>1.122161</td>\n",
       "      <td>0.583680</td>\n",
       "      <td>2.637361</td>\n",
       "      <td>27.387283</td>\n",
       "      <td>626.436077</td>\n",
       "      <td>1.524653</td>\n",
       "      <td>0.704919</td>\n",
       "      <td>...</td>\n",
       "      <td>0.480937</td>\n",
       "      <td>1498.961954</td>\n",
       "      <td>0.069439</td>\n",
       "      <td>30.394854</td>\n",
       "      <td>0.169448</td>\n",
       "      <td>0.092592</td>\n",
       "      <td>1175.015832</td>\n",
       "      <td>2.397967</td>\n",
       "      <td>739.922463</td>\n",
       "      <td>0.307350</td>\n",
       "    </tr>\n",
       "    <tr>\n",
       "      <th>min</th>\n",
       "      <td>0.000000</td>\n",
       "      <td>0.000000</td>\n",
       "      <td>0.000000</td>\n",
       "      <td>0.000000</td>\n",
       "      <td>0.000000</td>\n",
       "      <td>0.000000</td>\n",
       "      <td>1.000000</td>\n",
       "      <td>0.000000</td>\n",
       "      <td>0.000000</td>\n",
       "      <td>0.000000</td>\n",
       "      <td>...</td>\n",
       "      <td>0.000000</td>\n",
       "      <td>0.000000</td>\n",
       "      <td>0.000000</td>\n",
       "      <td>0.000000</td>\n",
       "      <td>0.000000</td>\n",
       "      <td>0.000000</td>\n",
       "      <td>0.000000</td>\n",
       "      <td>0.000000</td>\n",
       "      <td>0.000000</td>\n",
       "      <td>0.000000</td>\n",
       "    </tr>\n",
       "    <tr>\n",
       "      <th>25%</th>\n",
       "      <td>0.000000</td>\n",
       "      <td>0.000000</td>\n",
       "      <td>0.000000</td>\n",
       "      <td>0.000000</td>\n",
       "      <td>0.000000</td>\n",
       "      <td>0.000000</td>\n",
       "      <td>24.000000</td>\n",
       "      <td>0.000000</td>\n",
       "      <td>0.000000</td>\n",
       "      <td>0.000000</td>\n",
       "      <td>...</td>\n",
       "      <td>0.000000</td>\n",
       "      <td>0.000000</td>\n",
       "      <td>0.000000</td>\n",
       "      <td>0.000000</td>\n",
       "      <td>0.000000</td>\n",
       "      <td>0.000000</td>\n",
       "      <td>151.700000</td>\n",
       "      <td>2.000000</td>\n",
       "      <td>0.000000</td>\n",
       "      <td>0.195900</td>\n",
       "    </tr>\n",
       "    <tr>\n",
       "      <th>50%</th>\n",
       "      <td>0.000000</td>\n",
       "      <td>0.000000</td>\n",
       "      <td>83.270000</td>\n",
       "      <td>0.000000</td>\n",
       "      <td>0.000000</td>\n",
       "      <td>0.000000</td>\n",
       "      <td>48.000000</td>\n",
       "      <td>0.000000</td>\n",
       "      <td>0.000000</td>\n",
       "      <td>0.000000</td>\n",
       "      <td>...</td>\n",
       "      <td>0.000000</td>\n",
       "      <td>0.000000</td>\n",
       "      <td>0.000000</td>\n",
       "      <td>0.000000</td>\n",
       "      <td>0.000000</td>\n",
       "      <td>0.000000</td>\n",
       "      <td>682.800000</td>\n",
       "      <td>3.000000</td>\n",
       "      <td>0.000000</td>\n",
       "      <td>0.458300</td>\n",
       "    </tr>\n",
       "    <tr>\n",
       "      <th>75%</th>\n",
       "      <td>0.000000</td>\n",
       "      <td>2.000000</td>\n",
       "      <td>183.800000</td>\n",
       "      <td>1.000000</td>\n",
       "      <td>0.000000</td>\n",
       "      <td>2.000000</td>\n",
       "      <td>71.000000</td>\n",
       "      <td>1170.000000</td>\n",
       "      <td>1.000000</td>\n",
       "      <td>1.000000</td>\n",
       "      <td>...</td>\n",
       "      <td>0.000000</td>\n",
       "      <td>0.017150</td>\n",
       "      <td>0.000000</td>\n",
       "      <td>0.000000</td>\n",
       "      <td>0.000000</td>\n",
       "      <td>0.000000</td>\n",
       "      <td>1956.000000</td>\n",
       "      <td>5.000000</td>\n",
       "      <td>1495.000000</td>\n",
       "      <td>0.740700</td>\n",
       "    </tr>\n",
       "    <tr>\n",
       "      <th>max</th>\n",
       "      <td>8.000000</td>\n",
       "      <td>16.000000</td>\n",
       "      <td>2935.000000</td>\n",
       "      <td>17.000000</td>\n",
       "      <td>12.000000</td>\n",
       "      <td>43.000000</td>\n",
       "      <td>100.000000</td>\n",
       "      <td>2122.000000</td>\n",
       "      <td>29.000000</td>\n",
       "      <td>6.000000</td>\n",
       "      <td>...</td>\n",
       "      <td>13.000000</td>\n",
       "      <td>14600.000000</td>\n",
       "      <td>3.000000</td>\n",
       "      <td>1142.000000</td>\n",
       "      <td>5.000000</td>\n",
       "      <td>3.000000</td>\n",
       "      <td>9124.000000</td>\n",
       "      <td>44.000000</td>\n",
       "      <td>1958.000000</td>\n",
       "      <td>1.000000</td>\n",
       "    </tr>\n",
       "  </tbody>\n",
       "</table>\n",
       "<p>8 rows × 25 columns</p>\n",
       "</div>"
      ],
      "text/plain": [
       "            assists        boosts   damageDealt         DBNOs  headshotKills  \\\n",
       "count  44470.000000  44470.000000  44470.000000  44470.000000   44470.000000   \n",
       "mean       0.233011      1.097976    128.950505      0.642905       0.221723   \n",
       "std        0.580972      1.705380    167.193098      1.122161       0.583680   \n",
       "min        0.000000      0.000000      0.000000      0.000000       0.000000   \n",
       "25%        0.000000      0.000000      0.000000      0.000000       0.000000   \n",
       "50%        0.000000      0.000000     83.270000      0.000000       0.000000   \n",
       "75%        0.000000      2.000000    183.800000      1.000000       0.000000   \n",
       "max        8.000000     16.000000   2935.000000     17.000000      12.000000   \n",
       "\n",
       "              heals     killPlace    killPoints         kills   killStreaks  \\\n",
       "count  44470.000000  44470.000000  44470.000000  44470.000000  44470.000000   \n",
       "mean       1.353564     47.892962    506.026265      0.905060      0.535597   \n",
       "std        2.637361     27.387283    626.436077      1.524653      0.704919   \n",
       "min        0.000000      1.000000      0.000000      0.000000      0.000000   \n",
       "25%        0.000000     24.000000      0.000000      0.000000      0.000000   \n",
       "50%        0.000000     48.000000      0.000000      0.000000      0.000000   \n",
       "75%        2.000000     71.000000   1170.000000      1.000000      1.000000   \n",
       "max       43.000000    100.000000   2122.000000     29.000000      6.000000   \n",
       "\n",
       "           ...            revives  rideDistance     roadKills  swimDistance  \\\n",
       "count      ...       44470.000000  44470.000000  44470.000000  44470.000000   \n",
       "mean       ...           0.164358    605.370772      0.003620      4.632184   \n",
       "std        ...           0.480937   1498.961954      0.069439     30.394854   \n",
       "min        ...           0.000000      0.000000      0.000000      0.000000   \n",
       "25%        ...           0.000000      0.000000      0.000000      0.000000   \n",
       "50%        ...           0.000000      0.000000      0.000000      0.000000   \n",
       "75%        ...           0.000000      0.017150      0.000000      0.000000   \n",
       "max        ...          13.000000  14600.000000      3.000000   1142.000000   \n",
       "\n",
       "          teamKills  vehicleDestroys  walkDistance  weaponsAcquired  \\\n",
       "count  44470.000000     44470.000000  44470.000000     44470.000000   \n",
       "mean       0.024264         0.007870   1147.982816         3.636272   \n",
       "std        0.169448         0.092592   1175.015832         2.397967   \n",
       "min        0.000000         0.000000      0.000000         0.000000   \n",
       "25%        0.000000         0.000000    151.700000         2.000000   \n",
       "50%        0.000000         0.000000    682.800000         3.000000   \n",
       "75%        0.000000         0.000000   1956.000000         5.000000   \n",
       "max        5.000000         3.000000   9124.000000        44.000000   \n",
       "\n",
       "          winPoints  winPlacePerc  \n",
       "count  44470.000000  44470.000000  \n",
       "mean     608.822734      0.471774  \n",
       "std      739.922463      0.307350  \n",
       "min        0.000000      0.000000  \n",
       "25%        0.000000      0.195900  \n",
       "50%        0.000000      0.458300  \n",
       "75%     1495.000000      0.740700  \n",
       "max     1958.000000      1.000000  \n",
       "\n",
       "[8 rows x 25 columns]"
      ]
     },
     "execution_count": 45,
     "metadata": {},
     "output_type": "execute_result"
    }
   ],
   "source": [
    "train.describe()"
   ]
  },
  {
   "cell_type": "code",
   "execution_count": 46,
   "metadata": {},
   "outputs": [
    {
     "name": "stdout",
     "output_type": "stream",
     "text": [
      "<class 'pandas.core.frame.DataFrame'>\n",
      "RangeIndex: 44470 entries, 0 to 44469\n",
      "Data columns (total 26 columns):\n",
      "assists            44470 non-null int64\n",
      "boosts             44470 non-null int64\n",
      "damageDealt        44470 non-null float64\n",
      "DBNOs              44470 non-null int64\n",
      "headshotKills      44470 non-null int64\n",
      "heals              44470 non-null int64\n",
      "killPlace          44470 non-null int64\n",
      "killPoints         44470 non-null int64\n",
      "kills              44470 non-null int64\n",
      "killStreaks        44470 non-null int64\n",
      "longestKill        44470 non-null float64\n",
      "matchDuration      44470 non-null int64\n",
      "matchType          44470 non-null object\n",
      "maxPlace           44470 non-null int64\n",
      "numGroups          44470 non-null int64\n",
      "rankPoints         44470 non-null int64\n",
      "revives            44470 non-null int64\n",
      "rideDistance       44470 non-null float64\n",
      "roadKills          44470 non-null int64\n",
      "swimDistance       44470 non-null float64\n",
      "teamKills          44470 non-null int64\n",
      "vehicleDestroys    44470 non-null int64\n",
      "walkDistance       44470 non-null float64\n",
      "weaponsAcquired    44470 non-null int64\n",
      "winPoints          44470 non-null int64\n",
      "winPlacePerc       44470 non-null float64\n",
      "dtypes: float64(6), int64(19), object(1)\n",
      "memory usage: 8.8+ MB\n"
     ]
    }
   ],
   "source": [
    "train.info()"
   ]
  },
  {
   "cell_type": "code",
   "execution_count": 47,
   "metadata": {},
   "outputs": [],
   "source": [
    "trian=train.dropna()"
   ]
  },
  {
   "cell_type": "code",
   "execution_count": 49,
   "metadata": {},
   "outputs": [
    {
     "data": {
      "text/plain": [
       "array(['squad', 'squad-fpp', 'duo-fpp', 'solo-fpp', 'duo', 'solo',\n",
       "       'normal-squad-fpp', 'normal-squad', 'crashfpp', 'normal-duo-fpp',\n",
       "       'flarefpp', 'flaretpp', 'normal-solo-fpp', 'normal-solo',\n",
       "       'crashtpp'], dtype=object)"
      ]
     },
     "execution_count": 49,
     "metadata": {},
     "output_type": "execute_result"
    }
   ],
   "source": [
    "train['matchType'].unique()"
   ]
  },
  {
   "cell_type": "code",
   "execution_count": 55,
   "metadata": {},
   "outputs": [],
   "source": [
    "# celan match type data ( there are too many different types )\n",
    "mapper = lambda x: 'solo' if ('solo' in x) else 'duo' if ('duo' in x) or ('crash' in x) else 'squad'\n",
    "train['matchType'] = train['matchType'].map(mapper)\n",
    "train['winPlacePerc'] = train['winPlacePerc'].astype('float')"
   ]
  },
  {
   "cell_type": "code",
   "execution_count": 62,
   "metadata": {},
   "outputs": [],
   "source": [
    "# create pyspark dataframe\n",
    "train_df = spark.createDataFrame(train)"
   ]
  },
  {
   "cell_type": "code",
   "execution_count": 63,
   "metadata": {},
   "outputs": [],
   "source": [
    "# transfer categorical data of match type to numerical data\n",
    "train_df = train_df.\\\n",
    "                    withColumn('solo',(fn.col('matchType') == 'solo').cast('int')).\\\n",
    "                    withColumn('duo',(fn.col('matchType') == 'duo').cast('int')).\\\n",
    "                    withColumn('squad',(fn.col('matchType') == 'squad').cast('int'))\n",
    "train_df = train_df.drop('matchType')"
   ]
  },
  {
   "cell_type": "code",
   "execution_count": 70,
   "metadata": {},
   "outputs": [
    {
     "name": "stdout",
     "output_type": "stream",
     "text": [
      "+-------+------+-----------+-----+-------------+-----+---------+----------+-----+-----------+-----------------+-------------+--------+---------+----------+-------+------------+---------+------------+---------+---------------+------------+---------------+---------+-------------------+----+---+-----+\n",
      "|assists|boosts|damageDealt|DBNOs|headshotKills|heals|killPlace|killPoints|kills|killStreaks|      longestKill|matchDuration|maxPlace|numGroups|rankPoints|revives|rideDistance|roadKills|swimDistance|teamKills|vehicleDestroys|walkDistance|weaponsAcquired|winPoints|       winPlacePerc|solo|duo|squad|\n",
      "+-------+------+-----------+-----+-------------+-----+---------+----------+-----+-----------+-----------------+-------------+--------+---------+----------+-------+------------+---------+------------+---------+---------------+------------+---------------+---------+-------------------+----+---+-----+\n",
      "|      1|     1|      167.5|    1|            0|    5|        8|         0|    3|          2|            156.3|         1950|      28|       27|      1467|      1|         0.0|        0|         0.0|        0|              0|       426.7|              3|        0|             0.3333|   0|  0|    1|\n",
      "|      0|     0|        0.0|    0|            0|    0|       54|      1368|    0|          0|              0.0|         1374|      28|       26|        -1|      1|         0.0|        0|         0.0|        0|              0|       157.7|              4|     1495|             0.6296|   0|  0|    1|\n",
      "|      0|     0|       93.6|    0|            0|    0|       39|         0|    1|          1|6.292999999999999|         1346|      48|       48|      1500|      0|         0.0|        0|         0.0|        0|              0|       70.15|              1|        0|             0.1489|   0|  1|    0|\n",
      "|      0|     1|      363.0|    0|            3|    1|       14|         0|    3|          1|            9.144|         1853|      99|       97|      1541|      0|         0.0|        0|         0.0|        0|              0|       293.8|              3|        0|0.39799999999999996|   1|  0|    0|\n",
      "|      0|     0|      147.0|    1|            0|    0|       34|         0|    1|          1|            13.45|         1414|      29|       28|      1493|      0|         0.0|        0|         0.0|        0|              0|       251.0|              4|        0|             0.3214|   0|  0|    1|\n",
      "+-------+------+-----------+-----+-------------+-----+---------+----------+-----+-----------+-----------------+-------------+--------+---------+----------+-------+------------+---------+------------+---------+---------------+------------+---------------+---------+-------------------+----+---+-----+\n",
      "only showing top 5 rows\n",
      "\n"
     ]
    }
   ],
   "source": [
    "train_df.show(5)"
   ]
  },
  {
   "cell_type": "code",
   "execution_count": 96,
   "metadata": {},
   "outputs": [],
   "source": [
    "train_df = train_df.withColumnRenamed('winPlacePerc', 'label')"
   ]
  },
  {
   "cell_type": "code",
   "execution_count": 97,
   "metadata": {},
   "outputs": [],
   "source": [
    "#input cols\n",
    "inputcols = train_df.columns\n",
    "inputcols.remove('label')\n",
    "\n",
    "## Vector Assemble\n",
    "from pyspark.ml.feature import VectorAssembler\n",
    "va = VectorAssembler().setInputCols(inputcols).setOutputCol('features')"
   ]
  },
  {
   "cell_type": "code",
   "execution_count": 98,
   "metadata": {},
   "outputs": [],
   "source": [
    "#split data\n",
    "(trainingData, testingData) = train_df.randomSplit([0.7, 0.3])"
   ]
  },
  {
   "cell_type": "code",
   "execution_count": 99,
   "metadata": {},
   "outputs": [],
   "source": [
    "# create pipeline\n",
    "from pyspark.ml import Pipeline\n",
    "from pyspark.ml.regression import RandomForestRegressor\n",
    "from pyspark.ml.evaluation import RegressionEvaluator\n",
    "\n",
    "# Train a RandomForest model.\n",
    "rf = RandomForestRegressor(featuresCol = 'features')\n",
    "\n",
    "# Chain indexer and forest in a Pipeline\n",
    "rf_pipeline = Pipeline(stages=[va, rf])\n",
    "\n",
    "# Train model.  This also runs the indexer.\n",
    "model = rf_pipeline.fit(trainingData)"
   ]
  },
  {
   "cell_type": "code",
   "execution_count": 101,
   "metadata": {},
   "outputs": [
    {
     "name": "stdout",
     "output_type": "stream",
     "text": [
      "+-------------------+------+--------------------+\n",
      "|         prediction| label|            features|\n",
      "+-------------------+------+--------------------+\n",
      "| 0.3195315646547384|   0.0|(27,[6,11,12,13,1...|\n",
      "|0.46642179077806345|0.2703|(27,[6,7,11,12,13...|\n",
      "| 0.6033055143611297|0.5556|(27,[6,11,12,13,1...|\n",
      "| 0.3589401377210678|   0.0|(27,[6,7,11,12,13...|\n",
      "| 0.5825586441674131|0.9149|(27,[6,11,12,13,1...|\n",
      "+-------------------+------+--------------------+\n",
      "only showing top 5 rows\n",
      "\n"
     ]
    }
   ],
   "source": [
    "# Make predictions.\n",
    "predictions = model.transform(testingData)\n",
    "\n",
    "# Select example rows to display.\n",
    "predictions.select(\"prediction\", \"label\", \"features\").show(5)"
   ]
  },
  {
   "cell_type": "code",
   "execution_count": 102,
   "metadata": {},
   "outputs": [
    {
     "name": "stdout",
     "output_type": "stream",
     "text": [
      "Root Mean Squared Error (RMSE) on test data = 0.122188\n"
     ]
    }
   ],
   "source": [
    "# Select (prediction, true label) and compute test error\n",
    "evaluator = RegressionEvaluator(\n",
    "    labelCol=\"label\", predictionCol=\"prediction\", metricName=\"rmse\")\n",
    "rmse = evaluator.evaluate(predictions)\n",
    "print(\"Root Mean Squared Error (RMSE) on test data = %g\" % rmse)\n"
   ]
  },
  {
   "cell_type": "code",
   "execution_count": 103,
   "metadata": {},
   "outputs": [
    {
     "name": "stdout",
     "output_type": "stream",
     "text": [
      "RandomForestRegressionModel (uid=RandomForestRegressor_40388cc5d58b3ade017e) with 20 trees\n"
     ]
    }
   ],
   "source": [
    "rfModel = model.stages[1]\n",
    "print(rfModel)  # summary only"
   ]
  },
  {
   "cell_type": "code",
   "execution_count": null,
   "metadata": {},
   "outputs": [],
   "source": []
  }
 ],
 "metadata": {
  "kernelspec": {
   "display_name": "Python 3",
   "language": "python",
   "name": "python3"
  },
  "language_info": {
   "codemirror_mode": {
    "name": "ipython",
    "version": 3
   },
   "file_extension": ".py",
   "mimetype": "text/x-python",
   "name": "python",
   "nbconvert_exporter": "python",
   "pygments_lexer": "ipython3",
   "version": "3.6.6"
  }
 },
 "nbformat": 4,
 "nbformat_minor": 2
}
